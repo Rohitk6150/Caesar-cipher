{
 "cells": [
  {
   "cell_type": "code",
   "execution_count": 6,
   "id": "780f42fb",
   "metadata": {},
   "outputs": [
    {
     "name": "stdout",
     "output_type": "stream",
     "text": [
      "FRPERG ZRFFNTR.\n",
      "SECRET MESSAGE.\n"
     ]
    }
   ],
   "source": [
    "\"\"\"\n",
    "Caesar cipher\n",
    "Implement a Caesar cipher, both encoding and decoding. The key is an integer\n",
    "from 1 to 25. This cipher rotates the letters of the alphabet (A to Z). The\n",
    "encoding replaces each letter with the 1st to 25th next letter in the alphabet\n",
    "(wrapping Z to A). So key 2 encrypts \"HI\" to \"JK\", but key 20 encrypts \"HI\" to\n",
    "\"BC\". This simple \"monoalphabetic substitution cipher\" provides almost no\n",
    "security, because an attacker who has the encoded message can either use\n",
    "frequency analysis to guess the key, or just try all 25 keys.\n",
    "\"\"\"\n",
    "\n",
    "\n",
    "class Caesar():\n",
    "\n",
    "    def __init__(self):\n",
    "        self.LETTERS = 'ABCDEFGHIJKLMNOPQRSTUVWXYZ'\n",
    "        self.translated = ''\n",
    "\n",
    "    def __crypt(self, mode):\n",
    "        for symbol in self.message.upper():\n",
    "            if symbol in self.LETTERS:\n",
    "                num = self.LETTERS.find(symbol)\n",
    "                if mode == 'encrypt':\n",
    "                    num = num + self.key\n",
    "                elif mode == 'decrypt':\n",
    "                    num = num - self.key\n",
    "\n",
    "                if num >= len(self.LETTERS):\n",
    "                    num = num - len(self.LETTERS)\n",
    "                elif num < 0:\n",
    "                    num = num + len(self.LETTERS)\n",
    "\n",
    "                self.translated = self.translated + self.LETTERS[num]\n",
    "            else:\n",
    "                self.translated = self.translated + symbol\n",
    "\n",
    "        return self.translated\n",
    "\n",
    "    def encrypt(self, message, key=0):\n",
    "        self.translated = ''\n",
    "        self.key = key\n",
    "        self.message = message\n",
    "        return self.__crypt('encrypt')\n",
    "\n",
    "    def decrypt(self, message, key=0):\n",
    "        self.translated = ''\n",
    "        self.key = key\n",
    "        self.message = message\n",
    "        return self.__crypt('decrypt')\n",
    "\n",
    "if __name__ == '__main__':\n",
    "    cipher = Caesar()\n",
    "    print(cipher.encrypt(message='Secret message.', key=13))\n",
    "    print(cipher.decrypt(message='FRPERG ZRFFNTR.', key=13))"
   ]
  },
  {
   "cell_type": "code",
   "execution_count": null,
   "id": "146fe892",
   "metadata": {},
   "outputs": [],
   "source": []
  },
  {
   "cell_type": "code",
   "execution_count": null,
   "id": "5d7b37fd",
   "metadata": {},
   "outputs": [],
   "source": []
  }
 ],
 "metadata": {
  "kernelspec": {
   "display_name": "Python 3 (ipykernel)",
   "language": "python",
   "name": "python3"
  },
  "language_info": {
   "codemirror_mode": {
    "name": "ipython",
    "version": 3
   },
   "file_extension": ".py",
   "mimetype": "text/x-python",
   "name": "python",
   "nbconvert_exporter": "python",
   "pygments_lexer": "ipython3",
   "version": "3.10.9"
  }
 },
 "nbformat": 4,
 "nbformat_minor": 5
}
